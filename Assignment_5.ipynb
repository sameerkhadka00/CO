{
  "nbformat": 4,
  "nbformat_minor": 0,
  "metadata": {
    "colab": {
      "provenance": [],
      "authorship_tag": "ABX9TyMV92sSpRbqr4Wr6T2sIYOo",
      "include_colab_link": true
    },
    "kernelspec": {
      "name": "python3",
      "display_name": "Python 3"
    },
    "language_info": {
      "name": "python"
    }
  },
  "cells": [
    {
      "cell_type": "markdown",
      "metadata": {
        "id": "view-in-github",
        "colab_type": "text"
      },
      "source": [
        "<a href=\"https://colab.research.google.com/github/sameerkhadka00/CO/blob/main/Assignment_5.ipynb\" target=\"_parent\"><img src=\"https://colab.research.google.com/assets/colab-badge.svg\" alt=\"Open In Colab\"/></a>"
      ]
    },
    {
      "cell_type": "code",
      "source": [
        "#Answer of 1\n",
        "init_mem={}\n",
        "def store(storage, elm):\n",
        "    storage.update(elm)\n",
        "    return storage\n",
        "\n",
        "a={800: 123}\n",
        "b={900: 1000}\n",
        "mem=store(init_mem, a)\n",
        "print(f\"Memory after storing a: {mem}\")\n",
        "mem=store(mem, b)\n",
        "print(f\"Memory after storing b: {mem}\")\n",
        "c={800:900}\n",
        "mem=store(mem, c)\n",
        "print(f\"Memory after storing c: {mem}\")\n",
        "d={1500:700}\n",
        "mem=store(mem, d)\n",
        "print(f\"Memory after storing d: {mem}\")\n",
        "\n",
        "def imm_load_ac(val):\n",
        "    return val\n",
        "\n",
        "ac = imm_load_ac(800)\n",
        "print(f\"Accumulator after immediate load: {ac}\")\n",
        "\n",
        "def dir_load_ac(storage, val):\n",
        "    return storage[val]\n",
        "\n",
        "ac = dir_load_ac(mem, 800)\n",
        "print(f\"Accumulator after direct load: {ac}\")\n",
        "\n",
        "def indir_load_ac(storage, val):\n",
        "    return storage[storage[val]]\n",
        "\n",
        "ac = indir_load_ac(mem, 800)\n",
        "print(f\"Accumulator after indirect load: {ac}\")\n",
        "\n",
        "def idx_load_ac(storage, idx, val):\n",
        "    return storage[val+idx]\n",
        "\n",
        "idxreg=700\n",
        "ac=idx_load_ac(mem, idxreg, 800)\n",
        "print(f\"Accumulator after indexed load: {ac}\")\n"
      ],
      "metadata": {
        "colab": {
          "base_uri": "https://localhost:8080/"
        },
        "id": "ISJJyI4ThhjF",
        "outputId": "3d9e57e1-3d5f-49bf-afa6-0fef4f4bab6d"
      },
      "execution_count": 2,
      "outputs": [
        {
          "output_type": "stream",
          "name": "stdout",
          "text": [
            "Memory after storing a: {800: 123}\n",
            "Memory after storing b: {800: 123, 900: 1000}\n",
            "Memory after storing c: {800: 900, 900: 1000}\n",
            "Memory after storing d: {800: 900, 900: 1000, 1500: 700}\n",
            "Accumulator after immediate load: 800\n",
            "Accumulator after direct load: 900\n",
            "Accumulator after indirect load: 1000\n",
            "Accumulator after indexed load: 700\n"
          ]
        }
      ]
    },
    {
      "cell_type": "code",
      "source": [
        "init_mem = {}\n",
        "\n",
        "def store(storage, elm):\n",
        "    storage.update(elm)\n",
        "    return storage\n",
        "\n",
        "a = {\"00000110101000\": [0, 1, 2, 3, 4, 5, 6, 7]}\n",
        "mem = store(init_mem, a)\n",
        "b = {\"00001110101000\": [10, 11, 12, 13, 14, 15, 16, 17]}\n",
        "mem = store(mem, b)\n",
        "c = {\"00001110111000\": [20, 21, 22, 23, 24, 25, 26, 27]}\n",
        "mem = store(mem, c)\n",
        "\n",
        "cache = {\n",
        "    \"0000\": [\"0000000\", [0, 0, 0, 0, 0, 0, 0, 0], 0],\n",
        "    \"0001\": [\"0000000\", [0, 0, 0, 0, 0, 0, 0, 0], 0],\n",
        "    \"0010\": [\"0000000\", [0, 0, 0, 0, 0, 0, 0, 0], 0],\n",
        "    \"0011\": [\"0000000\", [0, 0, 0, 0, 0, 0, 0, 0], 0],\n",
        "    \"0100\": [\"0000000\", [0, 0, 0, 0, 0, 0, 0, 0], 0],\n",
        "    \"0101\": [\"0000000\", [0, 0, 0, 0, 0, 0, 0, 0], 0],\n",
        "    \"0110\": [\"0000000\", [0, 0, 0, 0, 0, 0, 0, 0], 0],\n",
        "    \"0111\": [\"0000000\", [0, 0, 0, 0, 0, 0, 0, 0], 0],\n",
        "    \"1000\": [\"0000000\", [0, 0, 0, 0, 0, 0, 0, 0], 0],\n",
        "    \"1001\": [\"0000000\", [0, 0, 0, 0, 0, 0, 0, 0], 0],\n",
        "    \"1010\": [\"0000000\", [0, 0, 0, 0, 0, 0, 0, 0], 0],\n",
        "    \"1011\": [\"0000000\", [0, 0, 0, 0, 0, 0, 0, 0], 0],\n",
        "    \"1100\": [\"0000000\", [0, 0, 0, 0, 0, 0, 0, 0], 0],\n",
        "    \"1101\": [\"0000000\", [0, 0, 0, 0, 0, 0, 0, 0], 0],\n",
        "    \"1110\": [\"0000000\", [0, 0, 0, 0, 0, 0, 0, 0], 0],\n",
        "    \"1111\": [\"0000000\", [0, 0, 0, 0, 0, 0, 0, 0], 0],\n",
        "}\n",
        "\n",
        "def dir_map_cache(cache, adr, storage):\n",
        "    block = adr[7:11]\n",
        "    tag = adr[:7]\n",
        "    if cache[block][2] == 0 or cache[block][0] == tag:\n",
        "        cache[block][0] = tag\n",
        "        cache[block][1] = storage.get(adr[:14], [0, 0, 0, 0, 0, 0, 0, 0])\n",
        "        cache[block][2] = 1\n",
        "    else:\n",
        "        print(f\"Block in the cache is occupied\")\n",
        "    return cache\n",
        "\n",
        "adr1 = \"00000110101010\"  # hex address: 1AA\n",
        "cache = dir_map_cache(cache, adr1, mem)\n",
        "adr2 = \"00001110101010\"  # hex address: 3AA\n",
        "cache = dir_map_cache(cache, adr2, mem)\n",
        "adr3 = \"00001110111111\"  # hex address: 7BF\n",
        "cache = dir_map_cache(cache, adr3, mem)\n",
        "\n",
        "print(cache)\n"
      ],
      "metadata": {
        "colab": {
          "base_uri": "https://localhost:8080/"
        },
        "id": "isq9OFkYh8qt",
        "outputId": "6492fbf2-94ec-4b22-dd63-e20e1485c395"
      },
      "execution_count": 7,
      "outputs": [
        {
          "output_type": "stream",
          "name": "stdout",
          "text": [
            "Block in the cache is occupied\n",
            "{'0000': ['0000000', [0, 0, 0, 0, 0, 0, 0, 0], 0], '0001': ['0000000', [0, 0, 0, 0, 0, 0, 0, 0], 0], '0010': ['0000000', [0, 0, 0, 0, 0, 0, 0, 0], 0], '0011': ['0000000', [0, 0, 0, 0, 0, 0, 0, 0], 0], '0100': ['0000000', [0, 0, 0, 0, 0, 0, 0, 0], 0], '0101': ['0000011', [0, 0, 0, 0, 0, 0, 0, 0], 1], '0110': ['0000000', [0, 0, 0, 0, 0, 0, 0, 0], 0], '0111': ['0000111', [0, 0, 0, 0, 0, 0, 0, 0], 1], '1000': ['0000000', [0, 0, 0, 0, 0, 0, 0, 0], 0], '1001': ['0000000', [0, 0, 0, 0, 0, 0, 0, 0], 0], '1010': ['0000000', [0, 0, 0, 0, 0, 0, 0, 0], 0], '1011': ['0000000', [0, 0, 0, 0, 0, 0, 0, 0], 0], '1100': ['0000000', [0, 0, 0, 0, 0, 0, 0, 0], 0], '1101': ['0000000', [0, 0, 0, 0, 0, 0, 0, 0], 0], '1110': ['0000000', [0, 0, 0, 0, 0, 0, 0, 0], 0], '1111': ['0000000', [0, 0, 0, 0, 0, 0, 0, 0], 0]}\n"
          ]
        }
      ]
    },
    {
      "cell_type": "code",
      "source": [
        "#Answer of 3\n",
        "def fully_ass_cache(cache, adr, storage):\n",
        "    tag = adr[:11]\n",
        "    if adr[:11] in storage:\n",
        "        for block in cache:\n",
        "            if cache[block][2] == 0:\n",
        "                cache[block][0] = tag\n",
        "                cache[block][1] = storage[adr[:11]]\n",
        "                cache[block][2] = 1\n",
        "                return cache\n",
        "        block = list(cache.keys())[0]\n",
        "        cache[block][0] = tag\n",
        "        cache[block][1] = storage[adr[:11]]\n",
        "        cache[block][2] = 1\n",
        "    else:\n",
        "        print(f\"Address {adr} not found in memory\")\n",
        "    return cache\n",
        "\n",
        "init_mem = {}\n",
        "a = {\"00000110101000\": [0, 1, 2, 3, 4, 5, 6, 7]}\n",
        "mem = store(init_mem, a)\n",
        "\n",
        "cache = {\n",
        "    \"0000\": [\"0000000\", [0, 0, 0, 0, 0, 0, 0, 0], 0],\n",
        "    \"0001\": [\"0000000\", [0, 0, 0, 0, 0, 0, 0, 0], 0],\n",
        "    \"0010\": [\"0000000\", [0, 0, 0, 0, 0, 0, 0, 0], 0],\n",
        "    \"0011\": [\"0000000\", [0, 0, 0, 0, 0, 0, 0, 0], 0],\n",
        "}\n",
        "\n",
        "adr1 = \"00000110101000\"  # hex address: 1A8\n",
        "cache = fully_ass_cache(cache, adr1, mem)\n",
        "\n",
        "print(\"Updated Cache:\")\n",
        "print(cache)\n"
      ],
      "metadata": {
        "colab": {
          "base_uri": "https://localhost:8080/"
        },
        "id": "aF49WqB_kIhA",
        "outputId": "c32ead60-63a7-44e9-c231-9b5fcbd9d02f"
      },
      "execution_count": 10,
      "outputs": [
        {
          "output_type": "stream",
          "name": "stdout",
          "text": [
            "Address 00000110101000 not found in memory\n",
            "Updated Cache:\n",
            "{'0000': ['0000000', [0, 0, 0, 0, 0, 0, 0, 0], 0], '0001': ['0000000', [0, 0, 0, 0, 0, 0, 0, 0], 0], '0010': ['0000000', [0, 0, 0, 0, 0, 0, 0, 0], 0], '0011': ['0000000', [0, 0, 0, 0, 0, 0, 0, 0], 0]}\n"
          ]
        }
      ]
    },
    {
      "cell_type": "code",
      "source": [],
      "metadata": {
        "id": "6tRCJAB7kgOw"
      },
      "execution_count": null,
      "outputs": []
    }
  ]
}